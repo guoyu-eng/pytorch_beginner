{
 "cells": [
  {
   "cell_type": "code",
   "execution_count": 2,
   "id": "ca401530-791f-48af-a154-97a20df97645",
   "metadata": {},
   "outputs": [
    {
     "name": "stdout",
     "output_type": "stream",
     "text": [
      "245\n",
      "(<PIL.JpegImagePlugin.JpegImageFile image mode=RGB size=768x512 at 0x25AB80F9D90>, 'ants')\n"
     ]
    }
   ],
   "source": [
    "from torch.utils.data import Dataset\n",
    "# import pandas as pd\n",
    "import numpy as np\n",
    "import torch\n",
    "import os\n",
    "from PIL import Image\n",
    "class CustomDataset(Dataset):\n",
    "    def __init__(self, data, labels):\n",
    "        self.data = data\n",
    "        self.labels = labels\n",
    "        self.path = os.path.join(self.data, self.labels)\n",
    "        self.img_path = os.listdir(self.path)\n",
    "\n",
    "    def __len__(self):\n",
    "        return len(self.img_path)\n",
    "\n",
    "    def __getitem__(self, idx):\n",
    "        img_name = self.img_path[idx]\n",
    "        img_item_path = os.path.join(self.data, self.labels, img_name)\n",
    "        image = Image.open(img_item_path)\n",
    "        label = self.labels\n",
    "        return image, label\n",
    "    \n",
    "\n",
    "root_dir = 'hymenoptera_data/train'\n",
    "ants_label_dir  = 'ants'\n",
    "bees_label_dir  = 'bees'\n",
    "antsdata  = CustomDataset(root_dir, ants_label_dir)\n",
    "beesdata  = CustomDataset(root_dir, bees_label_dir)\n",
    "\n",
    "train_data = antsdata + beesdata\n",
    "print(len(train_data))\n",
    "print(antsdata[0])"
   ]
  },
  {
   "cell_type": "code",
   "execution_count": 4,
   "id": "10eceacf-ce4b-42e0-8eb0-677861f9ced4",
   "metadata": {},
   "outputs": [],
   "source": [
    "img, label = train_data[120]\n",
    "# img.show()"
   ]
  },
  {
   "cell_type": "code",
   "execution_count": null,
   "id": "9e7a2599-bbc5-44d3-bd90-87ab682851be",
   "metadata": {},
   "outputs": [],
   "source": []
  }
 ],
 "metadata": {
  "kernelspec": {
   "display_name": "Python 3 (ipykernel)",
   "language": "python",
   "name": "python3"
  },
  "language_info": {
   "codemirror_mode": {
    "name": "ipython",
    "version": 3
   },
   "file_extension": ".py",
   "mimetype": "text/x-python",
   "name": "python",
   "nbconvert_exporter": "python",
   "pygments_lexer": "ipython3",
   "version": "3.12.4"
  }
 },
 "nbformat": 4,
 "nbformat_minor": 5
}
