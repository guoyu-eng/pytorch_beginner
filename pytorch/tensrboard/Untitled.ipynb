{
 "cells": [
  {
   "cell_type": "code",
   "execution_count": 3,
   "id": "48f59da8-93fd-478d-b0f3-6af00d23569e",
   "metadata": {},
   "outputs": [
    {
     "ename": "TypeError",
     "evalue": "SummaryWriter.add_image() missing 2 required positional arguments: 'tag' and 'img_tensor'",
     "output_type": "error",
     "traceback": [
      "\u001b[31m---------------------------------------------------------------------------\u001b[39m",
      "\u001b[31mTypeError\u001b[39m                                 Traceback (most recent call last)",
      "\u001b[36mCell\u001b[39m\u001b[36m \u001b[39m\u001b[32mIn[3]\u001b[39m\u001b[32m, line 9\u001b[39m\n\u001b[32m      7\u001b[39m \u001b[38;5;28;01mfor\u001b[39;00m i \u001b[38;5;129;01min\u001b[39;00m \u001b[38;5;28mrange\u001b[39m(\u001b[32m10\u001b[39m):\n\u001b[32m      8\u001b[39m     wirter.add_scalar(\u001b[33m'\u001b[39m\u001b[33my=x\u001b[39m\u001b[33m'\u001b[39m, i, i)\n\u001b[32m----> \u001b[39m\u001b[32m9\u001b[39m \u001b[43mwirter\u001b[49m\u001b[43m.\u001b[49m\u001b[43madd_image\u001b[49m\u001b[43m(\u001b[49m\u001b[43m)\u001b[49m\n\u001b[32m     11\u001b[39m wirter.close()\n",
      "\u001b[31mTypeError\u001b[39m: SummaryWriter.add_image() missing 2 required positional arguments: 'tag' and 'img_tensor'"
     ]
    }
   ],
   "source": [
    "from torch.utils.data import Dataset\n",
    "from torch.utils.tensorboard import SummaryWriter\n",
    "\n",
    "\n",
    "wirter = SummaryWriter('logs')\n",
    "\n",
    "for i in range(10):\n",
    "    wirter.add_scalar('y=x', i, i)\n",
    "wirter.add_image()\n",
    "\n",
    "wirter.close()"
   ]
  },
  {
   "cell_type": "code",
   "execution_count": null,
   "id": "1d24dfc0-2138-4075-ae2f-a2b72712a931",
   "metadata": {},
   "outputs": [],
   "source": []
  }
 ],
 "metadata": {
  "kernelspec": {
   "display_name": "Python (pytorch)",
   "language": "python",
   "name": "pytorch"
  },
  "language_info": {
   "codemirror_mode": {
    "name": "ipython",
    "version": 3
   },
   "file_extension": ".py",
   "mimetype": "text/x-python",
   "name": "python",
   "nbconvert_exporter": "python",
   "pygments_lexer": "ipython3",
   "version": "3.12.9"
  }
 },
 "nbformat": 4,
 "nbformat_minor": 5
}
